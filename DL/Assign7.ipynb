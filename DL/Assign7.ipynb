{
 "cells": [
  {
   "cell_type": "code",
   "execution_count": null,
   "id": "d6c094dd-eec8-435f-9d46-04ce666eba27",
   "metadata": {},
   "outputs": [],
   "source": [
    "# 7. Object detection using YOLO and Pretrained Model"
   ]
  },
  {
   "cell_type": "code",
   "execution_count": null,
   "id": "2fd9d64b-4792-42aa-9911-c106e4f9b6df",
   "metadata": {},
   "outputs": [],
   "source": [
    "# !pip install torch torchvision opencv-python matplotlib"
   ]
  },
  {
   "cell_type": "code",
   "execution_count": 2,
   "id": "7a212f65-620b-4fc2-99d5-9a5fb9beb462",
   "metadata": {},
   "outputs": [
    {
     "ename": "ModuleNotFoundError",
     "evalue": "No module named 'torch'",
     "output_type": "error",
     "traceback": [
      "\u001b[1;31m---------------------------------------------------------------------------\u001b[0m",
      "\u001b[1;31mModuleNotFoundError\u001b[0m                       Traceback (most recent call last)",
      "Cell \u001b[1;32mIn[2], line 1\u001b[0m\n\u001b[1;32m----> 1\u001b[0m \u001b[38;5;28;01mimport\u001b[39;00m \u001b[38;5;21;01mtorch\u001b[39;00m\n\u001b[0;32m      2\u001b[0m \u001b[38;5;28;01mimport\u001b[39;00m \u001b[38;5;21;01mcv2\u001b[39;00m\n\u001b[0;32m      3\u001b[0m \u001b[38;5;28;01mimport\u001b[39;00m \u001b[38;5;21;01mmatplotlib\u001b[39;00m\u001b[38;5;21;01m.\u001b[39;00m\u001b[38;5;21;01mpyplot\u001b[39;00m \u001b[38;5;28;01mas\u001b[39;00m \u001b[38;5;21;01mplt\u001b[39;00m\n",
      "\u001b[1;31mModuleNotFoundError\u001b[0m: No module named 'torch'"
     ]
    }
   ],
   "source": [
    "import torch\n",
    "import cv2\n",
    "import matplotlib.pyplot as plt\n",
    "import pandas as pd"
   ]
  },
  {
   "cell_type": "code",
   "execution_count": null,
   "id": "a5ac132e-92a1-4ff1-b905-31734e9fef0a",
   "metadata": {},
   "outputs": [],
   "source": [
    "# Load the pre-trained YOLOv5 model\n",
    "model = torch.hub.load('ultralytics/yolov5', 'yolov5s', pretrained=True)\n",
    "\n",
    "# Load the image\n",
    "image_path = 'Cat Image.jpeg'  # Replace with your image path\n",
    "image = cv2.imread(image_path)"
   ]
  },
  {
   "cell_type": "code",
   "execution_count": null,
   "id": "45d400a4-0e2a-4b9c-bcc7-d166d42397c8",
   "metadata": {},
   "outputs": [],
   "source": [
    "# Run object detection\n",
    "results = model(image)"
   ]
  },
  {
   "cell_type": "code",
   "execution_count": null,
   "id": "c3ae4a23-0d9f-4e0d-82fd-1cd3228d6cff",
   "metadata": {},
   "outputs": [],
   "source": [
    "# Display results in Jupyter Notebook\n",
    "results.show()  # Opens a pop-up with detected objects\n",
    "# Optional: Display inline in notebook\n",
    "plt.imshow(cv2.cvtColor(image, cv2.COLOR_BGR2RGB))\n",
    "plt.axis('off')\n",
    "plt.show()"
   ]
  },
  {
   "cell_type": "code",
   "execution_count": null,
   "id": "1fc90082-c4ff-4b8d-8c60-8930d51de436",
   "metadata": {},
   "outputs": [],
   "source": [
    "# Save the results\n",
    "results.save(save_dir='output')  # Save detected results in 'output/' folder"
   ]
  },
  {
   "cell_type": "code",
   "execution_count": null,
   "id": "a66d1705-070e-408c-b649-3ab6314dda66",
   "metadata": {},
   "outputs": [],
   "source": [
    "# Extract detected objects as a DataFrame\n",
    "df = results.pandas().xyxy[0]\n",
    "print(df)"
   ]
  }
 ],
 "metadata": {
  "kernelspec": {
   "display_name": "Python 3 (ipykernel)",
   "language": "python",
   "name": "python3"
  },
  "language_info": {
   "codemirror_mode": {
    "name": "ipython",
    "version": 3
   },
   "file_extension": ".py",
   "mimetype": "text/x-python",
   "name": "python",
   "nbconvert_exporter": "python",
   "pygments_lexer": "ipython3",
   "version": "3.11.9"
  }
 },
 "nbformat": 4,
 "nbformat_minor": 5
}
