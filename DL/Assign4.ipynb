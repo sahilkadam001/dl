{
 "cells": [
  {
   "cell_type": "code",
   "execution_count": null,
   "id": "4a4c2d8c-a384-4c98-934f-f5313b15669a",
   "metadata": {},
   "outputs": [],
   "source": [
    "# 4. Time series prediction using RNN – stock market analysis or weather forecasting"
   ]
  },
  {
   "cell_type": "code",
   "execution_count": 7,
   "id": "0c5a98fb-b173-402a-b5a6-13c2221b9df7",
   "metadata": {},
   "outputs": [],
   "source": [
    "import pandas as pd\n",
    "import numpy as np\n",
    "import matplotlib.pyplot as plt\n",
    "from keras.layers import Dense, SimpleRNN\n",
    "from keras.models import Sequential\n",
    "from sklearn.preprocessing import MinMaxScaler"
   ]
  },
  {
   "cell_type": "code",
   "execution_count": 18,
   "id": "1736adf6-3352-49b7-b6d3-42090ebd36e0",
   "metadata": {},
   "outputs": [
    {
     "name": "stderr",
     "output_type": "stream",
     "text": [
      "C:\\Users\\User\\AppData\\Local\\Temp\\ipykernel_5976\\1559877954.py:2: UserWarning: Parsing dates in %d-%m-%Y format when dayfirst=False (the default) was specified. Pass `dayfirst=True` or specify a format to silence this warning.\n",
      "  df['Date'] = pd.to_datetime(df['Date'])\n"
     ]
    }
   ],
   "source": [
    "df = pd.read_csv(r\"C:\\Users\\User\\Desktop\\Datasets\\TSLA.csv\")\n",
    "df['Date'] = pd.to_datetime(df['Date'])\n",
    "df.set_index(['Date'], inplace=True)\n",
    "data = df[['Close']].values"
   ]
  },
  {
   "cell_type": "code",
   "execution_count": 19,
   "id": "be836b04-8614-4b25-a102-3360fef7a452",
   "metadata": {},
   "outputs": [],
   "source": [
    "scaler = MinMaxScaler(feature_range=(0,1))\n",
    "scaled_data = scaler.fit_transform(data)"
   ]
  },
  {
   "cell_type": "code",
   "execution_count": 23,
   "id": "0513ac42-8812-4614-8d40-d8b7c6932717",
   "metadata": {},
   "outputs": [],
   "source": [
    "def create_sequence(data, seq_len):\n",
    "    x,y = [], []\n",
    "    for i in range (len(data) - seq_len):\n",
    "        x.append(data[i : i+seq_len])\n",
    "        y.append(data[i+seq_len])\n",
    "    return np.array(x), np.array(y)\n",
    "\n",
    "seq_len = 60\n",
    "x,y = create_sequence(scaled_data,seq_len)"
   ]
  },
  {
   "cell_type": "code",
   "execution_count": 24,
   "id": "d1c65247-ae7e-4878-99e5-14fc350816f9",
   "metadata": {},
   "outputs": [],
   "source": [
    "split_idx = int(len(x) * 0.8)\n",
    "x_train, x_test = x[:split_idx] , x[split_idx:]\n",
    "y_train, y_test = y[:split_idx], y[split_idx:]"
   ]
  },
  {
   "cell_type": "code",
   "execution_count": 28,
   "id": "a33863a5-f5ed-4113-b7c8-3567f9b4070c",
   "metadata": {},
   "outputs": [],
   "source": [
    "model = Sequential([SimpleRNN(50, activation = 'relu',input_shape = (seq_len, 1)),\n",
    "                   Dense(1)])\n",
    "model.compile(optimizer='adam', loss =\"mean_squared_error\")"
   ]
  },
  {
   "cell_type": "code",
   "execution_count": 29,
   "id": "de929e2a-17de-4085-8957-4d6f18afa8f8",
   "metadata": {},
   "outputs": [
    {
     "name": "stdout",
     "output_type": "stream",
     "text": [
      "Epoch 1/10\n",
      "\u001b[1m73/73\u001b[0m \u001b[32m━━━━━━━━━━━━━━━━━━━━\u001b[0m\u001b[37m\u001b[0m \u001b[1m3s\u001b[0m 10ms/step - loss: 3.6256e-04 - val_loss: 0.0876\n",
      "Epoch 2/10\n",
      "\u001b[1m73/73\u001b[0m \u001b[32m━━━━━━━━━━━━━━━━━━━━\u001b[0m\u001b[37m\u001b[0m \u001b[1m1s\u001b[0m 7ms/step - loss: 1.8713e-06 - val_loss: 0.0867\n",
      "Epoch 3/10\n",
      "\u001b[1m73/73\u001b[0m \u001b[32m━━━━━━━━━━━━━━━━━━━━\u001b[0m\u001b[37m\u001b[0m \u001b[1m1s\u001b[0m 7ms/step - loss: 1.7935e-06 - val_loss: 0.0858\n",
      "Epoch 4/10\n",
      "\u001b[1m73/73\u001b[0m \u001b[32m━━━━━━━━━━━━━━━━━━━━\u001b[0m\u001b[37m\u001b[0m \u001b[1m0s\u001b[0m 6ms/step - loss: 1.7922e-06 - val_loss: 0.0866\n",
      "Epoch 5/10\n",
      "\u001b[1m73/73\u001b[0m \u001b[32m━━━━━━━━━━━━━━━━━━━━\u001b[0m\u001b[37m\u001b[0m \u001b[1m1s\u001b[0m 8ms/step - loss: 1.8380e-06 - val_loss: 0.0887\n",
      "Epoch 6/10\n",
      "\u001b[1m73/73\u001b[0m \u001b[32m━━━━━━━━━━━━━━━━━━━━\u001b[0m\u001b[37m\u001b[0m \u001b[1m1s\u001b[0m 7ms/step - loss: 2.6439e-06 - val_loss: 0.0894\n",
      "Epoch 7/10\n",
      "\u001b[1m73/73\u001b[0m \u001b[32m━━━━━━━━━━━━━━━━━━━━\u001b[0m\u001b[37m\u001b[0m \u001b[1m1s\u001b[0m 7ms/step - loss: 1.5734e-06 - val_loss: 0.0887\n",
      "Epoch 8/10\n",
      "\u001b[1m73/73\u001b[0m \u001b[32m━━━━━━━━━━━━━━━━━━━━\u001b[0m\u001b[37m\u001b[0m \u001b[1m1s\u001b[0m 7ms/step - loss: 1.8883e-06 - val_loss: 0.0887\n",
      "Epoch 9/10\n",
      "\u001b[1m73/73\u001b[0m \u001b[32m━━━━━━━━━━━━━━━━━━━━\u001b[0m\u001b[37m\u001b[0m \u001b[1m1s\u001b[0m 7ms/step - loss: 1.8591e-06 - val_loss: 0.0883\n",
      "Epoch 10/10\n",
      "\u001b[1m73/73\u001b[0m \u001b[32m━━━━━━━━━━━━━━━━━━━━\u001b[0m\u001b[37m\u001b[0m \u001b[1m1s\u001b[0m 7ms/step - loss: 1.5225e-06 - val_loss: 0.0882\n"
     ]
    },
    {
     "data": {
      "text/plain": [
       "<keras.src.callbacks.history.History at 0x16b48822590>"
      ]
     },
     "execution_count": 29,
     "metadata": {},
     "output_type": "execute_result"
    }
   ],
   "source": [
    "model.fit(x_train, y_train, epochs=10, validation_data=(x_test, y_test), batch_size=32)"
   ]
  },
  {
   "cell_type": "code",
   "execution_count": 30,
   "id": "97ff2065-03fb-4412-924a-65f87d98b478",
   "metadata": {},
   "outputs": [
    {
     "name": "stdout",
     "output_type": "stream",
     "text": [
      "\u001b[1m1/1\u001b[0m \u001b[32m━━━━━━━━━━━━━━━━━━━━\u001b[0m\u001b[37m\u001b[0m \u001b[1m0s\u001b[0m 162ms/step\n",
      "\u001b[1m1/1\u001b[0m \u001b[32m━━━━━━━━━━━━━━━━━━━━\u001b[0m\u001b[37m\u001b[0m \u001b[1m0s\u001b[0m 26ms/step\n",
      "\u001b[1m1/1\u001b[0m \u001b[32m━━━━━━━━━━━━━━━━━━━━\u001b[0m\u001b[37m\u001b[0m \u001b[1m0s\u001b[0m 26ms/step\n",
      "\u001b[1m1/1\u001b[0m \u001b[32m━━━━━━━━━━━━━━━━━━━━\u001b[0m\u001b[37m\u001b[0m \u001b[1m0s\u001b[0m 25ms/step\n",
      "\u001b[1m1/1\u001b[0m \u001b[32m━━━━━━━━━━━━━━━━━━━━\u001b[0m\u001b[37m\u001b[0m \u001b[1m0s\u001b[0m 25ms/step\n",
      "\u001b[1m1/1\u001b[0m \u001b[32m━━━━━━━━━━━━━━━━━━━━\u001b[0m\u001b[37m\u001b[0m \u001b[1m0s\u001b[0m 26ms/step\n",
      "\u001b[1m1/1\u001b[0m \u001b[32m━━━━━━━━━━━━━━━━━━━━\u001b[0m\u001b[37m\u001b[0m \u001b[1m0s\u001b[0m 26ms/step\n",
      "\u001b[1m1/1\u001b[0m \u001b[32m━━━━━━━━━━━━━━━━━━━━\u001b[0m\u001b[37m\u001b[0m \u001b[1m0s\u001b[0m 26ms/step\n",
      "\u001b[1m1/1\u001b[0m \u001b[32m━━━━━━━━━━━━━━━━━━━━\u001b[0m\u001b[37m\u001b[0m \u001b[1m0s\u001b[0m 25ms/step\n",
      "\u001b[1m1/1\u001b[0m \u001b[32m━━━━━━━━━━━━━━━━━━━━\u001b[0m\u001b[37m\u001b[0m \u001b[1m0s\u001b[0m 26ms/step\n",
      "\u001b[1m1/1\u001b[0m \u001b[32m━━━━━━━━━━━━━━━━━━━━\u001b[0m\u001b[37m\u001b[0m \u001b[1m0s\u001b[0m 25ms/step\n",
      "\u001b[1m1/1\u001b[0m \u001b[32m━━━━━━━━━━━━━━━━━━━━\u001b[0m\u001b[37m\u001b[0m \u001b[1m0s\u001b[0m 26ms/step\n",
      "\u001b[1m1/1\u001b[0m \u001b[32m━━━━━━━━━━━━━━━━━━━━\u001b[0m\u001b[37m\u001b[0m \u001b[1m0s\u001b[0m 27ms/step\n",
      "\u001b[1m1/1\u001b[0m \u001b[32m━━━━━━━━━━━━━━━━━━━━\u001b[0m\u001b[37m\u001b[0m \u001b[1m0s\u001b[0m 27ms/step\n",
      "\u001b[1m1/1\u001b[0m \u001b[32m━━━━━━━━━━━━━━━━━━━━\u001b[0m\u001b[37m\u001b[0m \u001b[1m0s\u001b[0m 27ms/step\n",
      "\u001b[1m1/1\u001b[0m \u001b[32m━━━━━━━━━━━━━━━━━━━━\u001b[0m\u001b[37m\u001b[0m \u001b[1m0s\u001b[0m 28ms/step\n",
      "\u001b[1m1/1\u001b[0m \u001b[32m━━━━━━━━━━━━━━━━━━━━\u001b[0m\u001b[37m\u001b[0m \u001b[1m0s\u001b[0m 27ms/step\n",
      "\u001b[1m1/1\u001b[0m \u001b[32m━━━━━━━━━━━━━━━━━━━━\u001b[0m\u001b[37m\u001b[0m \u001b[1m0s\u001b[0m 28ms/step\n",
      "\u001b[1m1/1\u001b[0m \u001b[32m━━━━━━━━━━━━━━━━━━━━\u001b[0m\u001b[37m\u001b[0m \u001b[1m0s\u001b[0m 28ms/step\n",
      "\u001b[1m1/1\u001b[0m \u001b[32m━━━━━━━━━━━━━━━━━━━━\u001b[0m\u001b[37m\u001b[0m \u001b[1m0s\u001b[0m 41ms/step\n"
     ]
    }
   ],
   "source": [
    "input_seq = scaled_data[split_idx - seq_len : split_idx]\n",
    "predictions = []\n",
    "\n",
    "for _ in range(20):\n",
    "    input_seq = np.reshape(input_seq, (1,seq_len,1))\n",
    "    pred = model.predict(input_seq, verbose= 'auto')\n",
    "    predictions.append(pred[0][0])\n",
    "    input_seq = np.append(input_seq[:, 1: , :] ,[[pred[0]]], axis = 1)"
   ]
  },
  {
   "cell_type": "code",
   "execution_count": 31,
   "id": "1690dc7d-ae81-4340-a8bc-32a1dc39c9e8",
   "metadata": {},
   "outputs": [],
   "source": [
    "pred_val = scaler.inverse_transform(np.array(predictions).reshape(-1,1))\n",
    "actual_val = scaler.inverse_transform(np.array(scaled_data[split_idx : split_idx +20]))                                    "
   ]
  },
  {
   "cell_type": "code",
   "execution_count": 34,
   "id": "64222252-c802-484b-9f15-065c4f986e29",
   "metadata": {},
   "outputs": [
    {
     "data": {
      "image/png": "[encoded data removed]",
      "text/plain": [
       "<Figure size 640x480 with 1 Axes>"
      ]
     },
     "metadata": {},
     "output_type": "display_data"
    }
   ],
   "source": [
    "plt.plot(df.index[split_idx : split_idx +20], actual_val, label =\"Actual Val\")\n",
    "plt.plot(df.index[split_idx : split_idx +20], pred_val, label =\"Predicted Val\")\n",
    "plt.xlabel('Date')\n",
    "plt.ylabel('Stock Price')\n",
    "plt.legend()\n",
    "plt.show()"
   ]
  },
  {
   "cell_type": "code",
   "execution_count": 38,
   "id": "7b6c1bf6-46bc-47d9-adb3-cff194cecf95",
   "metadata": {},
   "outputs": [
    {
     "name": "stdout",
     "output_type": "stream",
     "text": [
      "Day 1: Actual: 49.41999799999999, Predicted: 46.914527893066406\n",
      "Day 2: Actual: 49.17400000000001, Predicted: 47.30209732055664\n",
      "Day 3: Actual: 49.040001, Predicted: 47.51185989379883\n",
      "Day 4: Actual: 48.562, Predicted: 47.68546676635742\n",
      "Day 5: Actual: 48.958, Predicted: 47.8933219909668\n",
      "Day 6: Actual: 48.698001999999995, Predicted: 48.065528869628906\n",
      "Day 7: Actual: 49.32, Predicted: 48.266944885253906\n",
      "Day 8: Actual: 48.124001, Predicted: 48.47111129760742\n",
      "Day 9: Actual: 48.245998, Predicted: 48.66448974609375\n",
      "Day 10: Actual: 44.641998, Predicted: 48.86022186279297\n",
      "Day 11: Actual: 45.740002, Predicted: 49.05763244628906\n",
      "Day 12: Actual: 48.512001, Predicted: 49.254638671875\n",
      "Day 13: Actual: 48.425999, Predicted: 49.451995849609375\n",
      "Day 14: Actual: 48.17399999999999, Predicted: 49.650630950927734\n",
      "Day 15: Actual: 48.938, Predicted: 49.84932327270508\n",
      "Day 16: Actual: 48.625999, Predicted: 50.04808807373047\n",
      "Day 17: Actual: 46.605999, Predicted: 50.24752426147461\n",
      "Day 18: Actual: 46.285999, Predicted: 50.44742202758789\n",
      "Day 19: Actual: 47.543999, Predicted: 50.647586822509766\n",
      "Day 20: Actual: 48.009998, Predicted: 50.8482666015625\n"
     ]
    }
   ],
   "source": [
    "for i in range(20):\n",
    "    print(f\"Day {i+1}: Actual: {actual_val[i][0]}, Predicted: {pred_val[i][0]}\")\n"
   ]
  }
 ],
 "metadata": {
  "kernelspec": {
   "display_name": "Python 3 (ipykernel)",
   "language": "python",
   "name": "python3"
  },
  "language_info": {
   "codemirror_mode": {
    "name": "ipython",
    "version": 3
   },
   "file_extension": ".py",
   "mimetype": "text/x-python",
   "name": "python",
   "nbconvert_exporter": "python",
   "pygments_lexer": "ipython3",
   "version": "3.11.9"
  }
 },
 "nbformat": 4,
 "nbformat_minor": 5
}
