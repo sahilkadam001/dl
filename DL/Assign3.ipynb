{
 "cells": [
  {
   "cell_type": "code",
   "execution_count": 1,
   "id": "6bbd23f2-3e2e-4e23-ad8b-2153aa399c1e",
   "metadata": {},
   "outputs": [],
   "source": [
    "# Implement Image classification using convolutional neural networks (CNNs) for multiclass classification."
   ]
  },
  {
   "cell_type": "code",
   "execution_count": 2,
   "id": "0eda9e7c-1ccb-4fd8-9734-86b2e0c4a20a",
   "metadata": {},
   "outputs": [],
   "source": [
    "import tensorflow as tf\n",
    "from tensorflow.keras.datasets import cifar10 \n",
    "from tensorflow.keras.layers import Dense, Flatten, Conv2D, MaxPooling2D\n",
    "from tensorflow.keras.models import Sequential\n",
    "import matplotlib.pyplot as plt"
   ]
  },
  {
   "cell_type": "code",
   "execution_count": 3,
   "id": "dc2bc6da-8bb4-4963-ac24-81c0c8a6fd3e",
   "metadata": {},
   "outputs": [],
   "source": [
    "(x_images, x_labels), (y_images, y_labels) = cifar10.load_data()"
   ]
  },
  {
   "cell_type": "code",
   "execution_count": 4,
   "id": "1e422615-f0ab-48ef-b13e-df1f6c96405c",
   "metadata": {},
   "outputs": [],
   "source": [
    "model = Sequential()"
   ]
  },
  {
   "cell_type": "code",
   "execution_count": 5,
   "id": "373daa13-558c-4b25-8b12-aaf0297646c7",
   "metadata": {},
   "outputs": [],
   "source": [
    "x_images , y_images = x_images/255.0 , y_images/255.0"
   ]
  },
  {
   "cell_type": "code",
   "execution_count": 6,
   "id": "23898cdd-2769-4f1b-b2dc-d5758dae9115",
   "metadata": {},
   "outputs": [
    {
     "name": "stderr",
     "output_type": "stream",
     "text": [
      "C:\\Users\\User\\AppData\\Local\\Packages\\PythonSoftwareFoundation.Python.3.11_qbz5n2kfra8p0\\LocalCache\\local-packages\\Python311\\site-packages\\keras\\src\\layers\\convolutional\\base_conv.py:107: UserWarning: Do not pass an `input_shape`/`input_dim` argument to a layer. When using Sequential models, prefer using an `Input(shape)` object as the first layer in the model instead.\n",
      "  super().__init__(activity_regularizer=activity_regularizer, **kwargs)\n"
     ]
    }
   ],
   "source": [
    "model.add(Conv2D(32,(3,3), activation = 'relu', input_shape = (32,32,3)))\n",
    "model.add(MaxPooling2D(2,2))"
   ]
  },
  {
   "cell_type": "code",
   "execution_count": 7,
   "id": "29f73f52-2931-42f5-9df4-3f905772ee63",
   "metadata": {},
   "outputs": [],
   "source": [
    "model.add(Conv2D(64,(3,3), activation = 'relu'))\n",
    "model.add(MaxPooling2D(2,2))"
   ]
  },
  {
   "cell_type": "code",
   "execution_count": 8,
   "id": "9c2325c8-245f-4d47-b061-c4ad912af0fc",
   "metadata": {},
   "outputs": [],
   "source": [
    "model.add(Conv2D(64,(3,3), activation = 'relu'))"
   ]
  },
  {
   "cell_type": "code",
   "execution_count": 9,
   "id": "d473687d-661d-44b6-b100-099887377394",
   "metadata": {},
   "outputs": [],
   "source": [
    "model.add(Flatten())\n",
    "model.add(Dense(64, activation = 'relu'))\n",
    "model.add(Dense(10))"
   ]
  },
  {
   "cell_type": "code",
   "execution_count": 19,
   "id": "20d5c16d-097e-4703-b182-49ff1c640aff",
   "metadata": {},
   "outputs": [],
   "source": [
    "model.compile(optimizer = 'adam', loss = tf.keras.losses.SparseCategoricalCrossentropy(from_logits=True), metrics = ['accuracy'])"
   ]
  },
  {
   "cell_type": "code",
   "execution_count": 20,
   "id": "be715388-da3c-41e8-aa80-c4ede34c7bd2",
   "metadata": {},
   "outputs": [
    {
     "name": "stdout",
     "output_type": "stream",
     "text": [
      "Epoch 1/10\n",
      "\u001b[1m1563/1563\u001b[0m \u001b[32m━━━━━━━━━━━━━━━━━━━━\u001b[0m\u001b[37m\u001b[0m \u001b[1m24s\u001b[0m 13ms/step - accuracy: 0.3372 - loss: 1.7852 - val_accuracy: 0.5570 - val_loss: 1.2436\n",
      "Epoch 2/10\n",
      "\u001b[1m1563/1563\u001b[0m \u001b[32m━━━━━━━━━━━━━━━━━━━━\u001b[0m\u001b[37m\u001b[0m \u001b[1m19s\u001b[0m 12ms/step - accuracy: 0.5686 - loss: 1.2075 - val_accuracy: 0.6141 - val_loss: 1.0845\n",
      "Epoch 3/10\n",
      "\u001b[1m1563/1563\u001b[0m \u001b[32m━━━━━━━━━━━━━━━━━━━━\u001b[0m\u001b[37m\u001b[0m \u001b[1m19s\u001b[0m 12ms/step - accuracy: 0.6384 - loss: 1.0292 - val_accuracy: 0.6359 - val_loss: 1.0168\n",
      "Epoch 4/10\n",
      "\u001b[1m1563/1563\u001b[0m \u001b[32m━━━━━━━━━━━━━━━━━━━━\u001b[0m\u001b[37m\u001b[0m \u001b[1m20s\u001b[0m 13ms/step - accuracy: 0.6791 - loss: 0.9213 - val_accuracy: 0.6774 - val_loss: 0.9219\n",
      "Epoch 5/10\n",
      "\u001b[1m1563/1563\u001b[0m \u001b[32m━━━━━━━━━━━━━━━━━━━━\u001b[0m\u001b[37m\u001b[0m \u001b[1m19s\u001b[0m 12ms/step - accuracy: 0.7058 - loss: 0.8430 - val_accuracy: 0.6667 - val_loss: 0.9586\n",
      "Epoch 6/10\n",
      "\u001b[1m1563/1563\u001b[0m \u001b[32m━━━━━━━━━━━━━━━━━━━━\u001b[0m\u001b[37m\u001b[0m \u001b[1m19s\u001b[0m 12ms/step - accuracy: 0.7238 - loss: 0.7812 - val_accuracy: 0.6905 - val_loss: 0.8906\n",
      "Epoch 7/10\n",
      "\u001b[1m1563/1563\u001b[0m \u001b[32m━━━━━━━━━━━━━━━━━━━━\u001b[0m\u001b[37m\u001b[0m \u001b[1m20s\u001b[0m 12ms/step - accuracy: 0.7452 - loss: 0.7263 - val_accuracy: 0.6904 - val_loss: 0.9083\n",
      "Epoch 8/10\n",
      "\u001b[1m1563/1563\u001b[0m \u001b[32m━━━━━━━━━━━━━━━━━━━━\u001b[0m\u001b[37m\u001b[0m \u001b[1m20s\u001b[0m 13ms/step - accuracy: 0.7634 - loss: 0.6744 - val_accuracy: 0.6968 - val_loss: 0.9069\n",
      "Epoch 9/10\n",
      "\u001b[1m1563/1563\u001b[0m \u001b[32m━━━━━━━━━━━━━━━━━━━━\u001b[0m\u001b[37m\u001b[0m \u001b[1m21s\u001b[0m 13ms/step - accuracy: 0.7799 - loss: 0.6259 - val_accuracy: 0.7055 - val_loss: 0.8686\n",
      "Epoch 10/10\n",
      "\u001b[1m1563/1563\u001b[0m \u001b[32m━━━━━━━━━━━━━━━━━━━━\u001b[0m\u001b[37m\u001b[0m \u001b[1m21s\u001b[0m 13ms/step - accuracy: 0.7888 - loss: 0.5973 - val_accuracy: 0.7092 - val_loss: 0.8845\n"
     ]
    },
    {
     "data": {
      "text/plain": [
       "<keras.src.callbacks.history.History at 0x25851563310>"
      ]
     },
     "execution_count": 20,
     "metadata": {},
     "output_type": "execute_result"
    }
   ],
   "source": [
    "model.fit(x_images, x_labels, epochs=10, validation_data=(y_images,y_labels))  "
   ]
  },
  {
   "cell_type": "code",
   "execution_count": 23,
   "id": "fbd090f2-d10d-4d45-b4a5-9e11fb237d9b",
   "metadata": {},
   "outputs": [
    {
     "name": "stdout",
     "output_type": "stream",
     "text": [
      "\u001b[1m313/313\u001b[0m \u001b[32m━━━━━━━━━━━━━━━━━━━━\u001b[0m\u001b[37m\u001b[0m \u001b[1m1s\u001b[0m 4ms/step - accuracy: 0.7127 - loss: 0.8776\n"
     ]
    }
   ],
   "source": [
    "test_loss, test_accu = model.evaluate(y_images, y_labels)"
   ]
  },
  {
   "cell_type": "code",
   "execution_count": 30,
   "id": "15dd054d-fe5c-4990-8a67-4c3dbad1c5d7",
   "metadata": {},
   "outputs": [
    {
     "name": "stdout",
     "output_type": "stream",
     "text": [
      "Accuracy : 0.7092000246047974\n",
      "loss : 0.8845191597938538\n"
     ]
    }
   ],
   "source": [
    "print(\"Accuracy :\", test_accu)\n",
    "print(\"loss :\", test_loss)"
   ]
  },
  {
   "cell_type": "code",
   "execution_count": 33,
   "id": "7c98619f-d1cd-4749-89b6-f289a7e30fdd",
   "metadata": {},
   "outputs": [
    {
     "name": "stdout",
     "output_type": "stream",
     "text": [
      "\u001b[1m1/1\u001b[0m \u001b[32m━━━━━━━━━━━━━━━━━━━━\u001b[0m\u001b[37m\u001b[0m \u001b[1m0s\u001b[0m 90ms/step\n"
     ]
    }
   ],
   "source": [
    "testing = model.predict(y_images[1].reshape(1,32,32,3))"
   ]
  },
  {
   "cell_type": "code",
   "execution_count": 34,
   "id": "ee0125c6-8fe8-41d7-ae13-51d5c43e6ee4",
   "metadata": {},
   "outputs": [
    {
     "name": "stdout",
     "output_type": "stream",
     "text": [
      "accuracy :-  [  2.6991065   5.1771016  -9.150982   -2.9501421 -11.370083   -8.520237\n",
      " -10.552957   -9.71738     9.667635    2.4923608]\n"
     ]
    }
   ],
   "source": [
    "print(\"accuracy :- \" , testing[0])"
   ]
  },
  {
   "cell_type": "code",
   "execution_count": 35,
   "id": "d255d978-a034-4f97-a794-2db0888d0462",
   "metadata": {},
   "outputs": [
    {
     "name": "stdout",
     "output_type": "stream",
     "text": [
      "accuracy :-  8\n"
     ]
    }
   ],
   "source": [
    "print(\"Class :- \" , testing[0].argmax())"
   ]
  },
  {
   "cell_type": "code",
   "execution_count": 57,
   "id": "fa982db9-2b8b-4536-aaa3-e8f038fbf66e",
   "metadata": {},
   "outputs": [
    {
     "data": {
      "image/png": "[encoded data removed]",
      "text/plain": [
       "<Figure size 640x480 with 1 Axes>"
      ]
     },
     "metadata": {},
     "output_type": "display_data"
    }
   ],
   "source": [
    "plt.imshow(y_images[1])\n",
    "plt.title(f\"Predicted: {y_labels[1][0]}\")\n",
    "plt.axis(\"off\")\n",
    "plt.show()"
   ]
  },
  {
   "cell_type": "code",
   "execution_count": 48,
   "id": "9cc482ee-5608-4baf-afa3-fe2810957a85",
   "metadata": {},
   "outputs": [],
   "source": [
    "import numpy as np"
   ]
  },
  {
   "cell_type": "code",
   "execution_count": 50,
   "id": "669f6d93-cbd8-4ad6-a124-8f9a9db22390",
   "metadata": {},
   "outputs": [],
   "source": [
    "all_labels = np.concatenate([x_labels, y_labels]).flatten()"
   ]
  },
  {
   "cell_type": "code",
   "execution_count": 51,
   "id": "38e4c59d-c570-4d23-9d84-581737cd7135",
   "metadata": {},
   "outputs": [
    {
     "name": "stdout",
     "output_type": "stream",
     "text": [
      "Shape of all_labels: (60000,)\n",
      "Class labels: [6 9 9 ... 5 1 7]\n"
     ]
    }
   ],
   "source": [
    "print(\"Shape of all_labels:\", all_labels.shape)\n",
    "print(\"Class labels:\", all_labels)"
   ]
  }
 ],
 "metadata": {
  "kernelspec": {
   "display_name": "Python 3 (ipykernel)",
   "language": "python",
   "name": "python3"
  },
  "language_info": {
   "codemirror_mode": {
    "name": "ipython",
    "version": 3
   },
   "file_extension": ".py",
   "mimetype": "text/x-python",
   "name": "python",
   "nbconvert_exporter": "python",
   "pygments_lexer": "ipython3",
   "version": "3.11.9"
  }
 },
 "nbformat": 4,
 "nbformat_minor": 5
}
