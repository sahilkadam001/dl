{
 "cells": [
  {
   "cell_type": "code",
   "execution_count": null,
   "id": "de213d17-6539-416f-bd44-3e01ae7fe2d2",
   "metadata": {},
   "outputs": [],
   "source": [
    "# 6. Sentiment analysis using LSTM network or GRU."
   ]
  },
  {
   "cell_type": "code",
   "execution_count": 1,
   "id": "ddaa237f-e2b8-49fc-9b7f-f3d2fd1a1c17",
   "metadata": {},
   "outputs": [],
   "source": [
    "import numpy as np\n",
    "import pandas as pd\n",
    "from sklearn.model_selection import train_test_split\n",
    "from tensorflow.keras.preprocessing.text import Tokenizer\n",
    "from tensorflow.keras.preprocessing.sequence import pad_sequences\n",
    "from tensorflow.keras.models import Sequential\n",
    "from tensorflow.keras.layers import Embedding, Dense, LSTM"
   ]
  },
  {
   "cell_type": "code",
   "execution_count": 2,
   "id": "932387a6-0a41-4b27-92bb-8a3600a2612b",
   "metadata": {},
   "outputs": [],
   "source": [
    "# Load dataset\n",
    "data = pd.read_csv(r'C:\\Users\\User\\Desktop\\Datasets\\Data_assig_6\\IMDB Dataset.csv')"
   ]
  },
  {
   "cell_type": "code",
   "execution_count": 3,
   "id": "81b54246-7917-4ef2-ade0-162f94478741",
   "metadata": {},
   "outputs": [],
   "source": [
    "# Preprocess the text\n",
    "data['review'] = data['review'].str.replace('<.*?>', '', regex=True)  # Remove HTML tags\n",
    "data['review'] = data['review'].str.replace('[^A-Za-z]', ' ', regex=True)  # Remove non-alphabetical characters\n",
    "data['review'] = data['review'].str.lower()  # Convert to lowercase\n",
    "data['sentiment'] = data['sentiment'].map({'positive': 1, 'negative': 0})  # Map sentiments to binary values\n"
   ]
  },
  {
   "cell_type": "code",
   "execution_count": 4,
   "id": "6eecd1be-7e81-46b1-8c2f-cce8fd48b870",
   "metadata": {},
   "outputs": [],
   "source": [
    "# Split the dataset\n",
    "x_train, x_test, y_train, y_test = train_test_split(data['review'], data['sentiment'], test_size=0.2, random_state=42)\n",
    "\n",
    "# Tokenize the text\n",
    "tokenizer = Tokenizer()\n",
    "tokenizer.fit_on_texts(x_train)\n",
    "\n",
    "x_train = pad_sequences(tokenizer.texts_to_sequences(x_train), maxlen=100)\n",
    "x_test = pad_sequences(tokenizer.texts_to_sequences(x_test), maxlen=100)\n"
   ]
  },
  {
   "cell_type": "code",
   "execution_count": 5,
   "id": "182b95c6-d56c-438e-ba94-b656d343c96c",
   "metadata": {},
   "outputs": [
    {
     "name": "stderr",
     "output_type": "stream",
     "text": [
      "C:\\Users\\User\\AppData\\Local\\Packages\\PythonSoftwareFoundation.Python.3.11_qbz5n2kfra8p0\\LocalCache\\local-packages\\Python311\\site-packages\\keras\\src\\layers\\core\\embedding.py:90: UserWarning: Argument `input_length` is deprecated. Just remove it.\n",
      "  warnings.warn(\n"
     ]
    }
   ],
   "source": [
    "# Build the model\n",
    "model = Sequential([\n",
    "    Embedding(len(tokenizer.word_index) + 1, 32, input_length=100),\n",
    "    LSTM(64),\n",
    "    Dense(1, activation=\"sigmoid\")\n",
    "])\n",
    "\n",
    "# Compile the model\n",
    "model.compile(optimizer=\"adam\", loss=\"binary_crossentropy\", metrics=[\"accuracy\"])\n"
   ]
  },
  {
   "cell_type": "code",
   "execution_count": 6,
   "id": "345da691-3d3f-4db3-988c-908a1df3c9a8",
   "metadata": {},
   "outputs": [
    {
     "name": "stdout",
     "output_type": "stream",
     "text": [
      "Epoch 1/3\n",
      "\u001b[1m313/313\u001b[0m \u001b[32m━━━━━━━━━━━━━━━━━━━━\u001b[0m\u001b[37m\u001b[0m \u001b[1m34s\u001b[0m 92ms/step - accuracy: 0.7122 - loss: 0.5310\n",
      "Epoch 2/3\n",
      "\u001b[1m313/313\u001b[0m \u001b[32m━━━━━━━━━━━━━━━━━━━━\u001b[0m\u001b[37m\u001b[0m \u001b[1m30s\u001b[0m 95ms/step - accuracy: 0.9101 - loss: 0.2315\n",
      "Epoch 3/3\n",
      "\u001b[1m313/313\u001b[0m \u001b[32m━━━━━━━━━━━━━━━━━━━━\u001b[0m\u001b[37m\u001b[0m \u001b[1m41s\u001b[0m 93ms/step - accuracy: 0.9481 - loss: 0.1451\n"
     ]
    },
    {
     "data": {
      "text/plain": [
       "<keras.src.callbacks.history.History at 0x2934cd09010>"
      ]
     },
     "execution_count": 6,
     "metadata": {},
     "output_type": "execute_result"
    }
   ],
   "source": [
    "# Train the model\n",
    "model.fit(x_train, np.array(y_train), epochs=3, batch_size=128)\n"
   ]
  },
  {
   "cell_type": "code",
   "execution_count": 7,
   "id": "ab9f8f13-2a17-4920-82d1-271f96bfdc6e",
   "metadata": {},
   "outputs": [
    {
     "name": "stdout",
     "output_type": "stream",
     "text": [
      "\u001b[1m313/313\u001b[0m \u001b[32m━━━━━━━━━━━━━━━━━━━━\u001b[0m\u001b[37m\u001b[0m \u001b[1m4s\u001b[0m 11ms/step - accuracy: 0.8460 - loss: 0.3841\n",
      "Accuracy: 85.03%\n"
     ]
    }
   ],
   "source": [
    "# Evaluate the model\n",
    "test_loss, test_acc = model.evaluate(x_test, np.array(y_test))\n",
    "print(f\"Accuracy: {test_acc*100:.2f}%\")\n"
   ]
  },
  {
   "cell_type": "code",
   "execution_count": 9,
   "id": "c64e9219-b8a3-405d-ad9b-db6dcd22f1b2",
   "metadata": {},
   "outputs": [],
   "source": [
    "# Function to predict sentiment\n",
    "def predict_sentiment(review):\n",
    "    review = review.lower()\n",
    "    review = ''.join([c if c.isalpha() or c.isspace() else ' ' for c in review])\n",
    "    sequence = tokenizer.texts_to_sequences([review])\n",
    "    padded_sequence = pad_sequences(sequence, maxlen=100)\n",
    "    result = model.predict(padded_sequence)[0][0]\n",
    "    sentiment = 'positive' if result >= 0.5 else 'negative'\n",
    "    print(f\"Review: {review}\\nPredicted Sentiment: {sentiment}\")\n"
   ]
  },
  {
   "cell_type": "code",
   "execution_count": 10,
   "id": "420e2d57-581e-49c0-baf7-dd3427222493",
   "metadata": {},
   "outputs": [
    {
     "name": "stdin",
     "output_type": "stream",
     "text": [
      "Enter a movie review (or type 'exit' to quit):  nice movie, but can be better\n"
     ]
    },
    {
     "name": "stdout",
     "output_type": "stream",
     "text": [
      "\u001b[1m1/1\u001b[0m \u001b[32m━━━━━━━━━━━━━━━━━━━━\u001b[0m\u001b[37m\u001b[0m \u001b[1m0s\u001b[0m 265ms/step\n",
      "Review: nice movie  but can be better\n",
      "Predicted Sentiment: positive\n"
     ]
    },
    {
     "name": "stdin",
     "output_type": "stream",
     "text": [
      "Enter a movie review (or type 'exit' to quit):  exit\n"
     ]
    }
   ],
   "source": [
    "# Test the prediction in a loop\n",
    "while True:\n",
    "    user_review = input(\"Enter a movie review (or type 'exit' to quit): \")\n",
    "    if user_review.lower() == 'exit':\n",
    "        break\n",
    "    predict_sentiment(user_review)\n"
   ]
  }
 ],
 "metadata": {
  "kernelspec": {
   "display_name": "Python 3 (ipykernel)",
   "language": "python",
   "name": "python3"
  },
  "language_info": {
   "codemirror_mode": {
    "name": "ipython",
    "version": 3
   },
   "file_extension": ".py",
   "mimetype": "text/x-python",
   "name": "python",
   "nbconvert_exporter": "python",
   "pygments_lexer": "ipython3",
   "version": "3.11.9"
  }
 },
 "nbformat": 4,
 "nbformat_minor": 5
}
