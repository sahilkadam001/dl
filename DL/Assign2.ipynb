{
 "cells": [
  {
   "cell_type": "code",
   "execution_count": null,
   "id": "887a8ca7-3e7d-47e0-9a16-d5e36f5da414",
   "metadata": {},
   "outputs": [],
   "source": [
    "# 2. Facial recognition using OpenCV and deep learning for binary classification."
   ]
  },
  {
   "cell_type": "code",
   "execution_count": 4,
   "id": "d7627b6e-fe6e-44fb-abca-a5d4b758cdfe",
   "metadata": {},
   "outputs": [],
   "source": [
    "import os\n",
    "import numpy as np\n",
    "import cv2\n",
    "from sklearn.preprocessing import LabelEncoder"
   ]
  },
  {
   "cell_type": "code",
   "execution_count": 5,
   "id": "fbad5e8c-030f-4140-992d-d553e9cd1d07",
   "metadata": {},
   "outputs": [],
   "source": [
    "# Function to detect face and extract it from an image\n",
    "def extract_face(image_path, face_cascade):\n",
    "    img = cv2.imread(image_path)\n",
    "    gray = cv2.cvtColor(img, cv2.COLOR_BGR2GRAY)\n",
    "    faces = face_cascade.detectMultiScale(gray, scaleFactor=1.1, minNeighbors=5)\n",
    "    \n",
    "    if len(faces) > 0:\n",
    "        x, y, w, h = faces[0]\n",
    "        return img[y:y+h, x:x+w]\n",
    "    return None"
   ]
  },
  {
   "cell_type": "code",
   "execution_count": 6,
   "id": "86c30f93-a465-443b-b2f3-e5c82b0778b7",
   "metadata": {},
   "outputs": [],
   "source": [
    "# Function to prepare data: load images and extract faces\n",
    "def prepare_data(data_directory, face_cascade):\n",
    "    faces, labels = [], []\n",
    "    for label_name in os.listdir(data_directory):\n",
    "        label_dir = os.path.join(data_directory, label_name)\n",
    "        if os.path.isdir(label_dir):\n",
    "            for img_name in os.listdir(label_dir):\n",
    "                img_path = os.path.join(label_dir, img_name)\n",
    "                face = extract_face(img_path, face_cascade)\n",
    "                if face is not None:\n",
    "                    faces.append(cv2.cvtColor(face, cv2.COLOR_BGR2GRAY))\n",
    "                    labels.append(label_name)\n",
    "    return faces, labels\n"
   ]
  },
  {
   "cell_type": "code",
   "execution_count": 7,
   "id": "00d4e58b-cf48-49c6-b72f-e0b4937b21e3",
   "metadata": {},
   "outputs": [],
   "source": [
    "# Train a face recognizer with the dataset\n",
    "def train_recognizer(data_directory, face_cascade):\n",
    "    faces, labels = prepare_data(data_directory, face_cascade)\n",
    "    label_encoder = LabelEncoder()\n",
    "    encoded_labels = label_encoder.fit_transform(labels)\n",
    "    \n",
    "    recognizer = cv2.face.LBPHFaceRecognizer_create()\n",
    "    recognizer.train(faces, np.array(encoded_labels))\n",
    "    \n",
    "    return recognizer, label_encoder\n"
   ]
  },
  {
   "cell_type": "code",
   "execution_count": 8,
   "id": "02ab5f23-1e16-472f-8544-984c5ba43d6b",
   "metadata": {},
   "outputs": [],
   "source": [
    "# Recognize the face from a new image\n",
    "def recognize_face(image_path, recognizer, face_cascade, label_encoder):\n",
    "    face = extract_face(image_path, face_cascade)\n",
    "    if face is not None:\n",
    "        gray_face = cv2.cvtColor(face, cv2.COLOR_BGR2GRAY)\n",
    "        label, confidence = recognizer.predict(gray_face)\n",
    "        return label_encoder.inverse_transform([label])[0], confidence\n",
    "    return None, None\n"
   ]
  },
  {
   "cell_type": "code",
   "execution_count": null,
   "id": "c7485fe7-f7a3-4b65-a3b7-6054848f1141",
   "metadata": {},
   "outputs": [],
   "source": [
    "# Example of running the face recognition system\n",
    "face_cascade = cv2.CascadeClassifier(cv2.data.haarcascades + 'haarcascade_frontalface_default.xml')\n",
    "data_directory = r'path_to_your_dataset'  # Update with the correct dataset path\n"
   ]
  },
  {
   "cell_type": "code",
   "execution_count": null,
   "id": "15bb1b07-c872-41d9-b912-fa532db0ef95",
   "metadata": {},
   "outputs": [],
   "source": [
    "# Train the recognizer\n",
    "recognizer, label_encoder = train_recognizer(data_directory, face_cascade)\n"
   ]
  },
  {
   "cell_type": "code",
   "execution_count": null,
   "id": "3cb0f5c7-f484-48a3-bb05-30fc971ea6ed",
   "metadata": {},
   "outputs": [],
   "source": [
    "# Example test image for face recognition\n",
    "image_path = r'path_to_test_image/Sad_Person.jpeg'  # Update with a test image path\n",
    "name, confidence = recognize_face(image_path, recognizer, face_cascade, label_encoder)\n",
    "print(f\"Predicted name: {name}, Confidence: {confidence}\")\n"
   ]
  }
 ],
 "metadata": {
  "kernelspec": {
   "display_name": "Python 3 (ipykernel)",
   "language": "python",
   "name": "python3"
  },
  "language_info": {
   "codemirror_mode": {
    "name": "ipython",
    "version": 3
   },
   "file_extension": ".py",
   "mimetype": "text/x-python",
   "name": "python",
   "nbconvert_exporter": "python",
   "pygments_lexer": "ipython3",
   "version": "3.11.9"
  }
 },
 "nbformat": 4,
 "nbformat_minor": 5
}
